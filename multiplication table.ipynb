{
 "cells": [
  {
   "cell_type": "code",
   "execution_count": 1,
   "id": "207a0d57-4330-4084-a56d-a7a4b8d74a52",
   "metadata": {},
   "outputs": [],
   "source": [
    "#Problem 9: Multiplication Table Generator\n",
    " #Write a program that takes an integer input from the user and prints the multiplication table for that \n",
    "#number up to 10."
   ]
  },
  {
   "cell_type": "code",
   "execution_count": 3,
   "id": "2dd46632-2aff-4f52-951a-80b736a3d948",
   "metadata": {},
   "outputs": [
    {
     "name": "stdin",
     "output_type": "stream",
     "text": [
      "Enter a number for multiplication table 12\n"
     ]
    },
    {
     "name": "stdout",
     "output_type": "stream",
     "text": [
      "12 X 0 = 0\n",
      "12 X 1 = 12\n",
      "12 X 2 = 24\n",
      "12 X 3 = 36\n",
      "12 X 4 = 48\n",
      "12 X 5 = 60\n",
      "12 X 6 = 72\n",
      "12 X 7 = 84\n",
      "12 X 8 = 96\n",
      "12 X 9 = 108\n",
      "12 X 10 = 120\n"
     ]
    }
   ],
   "source": [
    "n=int(input(\"Enter a number for multiplication table\"))\n",
    "\n",
    "for i in range(11):\n",
    "    print(n,\"X\",i,\"=\",n*i)"
   ]
  },
  {
   "cell_type": "code",
   "execution_count": null,
   "id": "1fee3c56-957c-45ef-bb3f-fc8b3322b4fd",
   "metadata": {},
   "outputs": [],
   "source": []
  }
 ],
 "metadata": {
  "kernelspec": {
   "display_name": "Python 3 (ipykernel)",
   "language": "python",
   "name": "python3"
  },
  "language_info": {
   "codemirror_mode": {
    "name": "ipython",
    "version": 3
   },
   "file_extension": ".py",
   "mimetype": "text/x-python",
   "name": "python",
   "nbconvert_exporter": "python",
   "pygments_lexer": "ipython3",
   "version": "3.12.4"
  }
 },
 "nbformat": 4,
 "nbformat_minor": 5
}
