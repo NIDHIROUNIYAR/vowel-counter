{
 "cells": [
  {
   "cell_type": "code",
   "execution_count": 1,
   "id": "1915b111-09d1-43ac-98a7-f465c31b856d",
   "metadata": {},
   "outputs": [],
   "source": [
    " #Problem 6: Vowel Counter\n",
    " #Write a Python program that takes a string as input and counts the number of vowels (a, e, i, \n",
    "#o, u) in it. Ignore case sensitivity"
   ]
  },
  {
   "cell_type": "code",
   "execution_count": 3,
   "id": "2054a0a9-70e9-43bb-b8bd-a9ba1b247ac2",
   "metadata": {},
   "outputs": [
    {
     "name": "stdin",
     "output_type": "stream",
     "text": [
      "Enter a word:  o\n"
     ]
    },
    {
     "name": "stdout",
     "output_type": "stream",
     "text": [
      "The total number of vowels is 1\n"
     ]
    }
   ],
   "source": [
    "word = input(\"Enter a word: \")\n",
    "c = 0\n",
    "vowels = {'a', 'e', 'i', 'o', 'u'}\n",
    "\n",
    "for i in word.lower():\n",
    "    if i in vowels:\n",
    "        c += 1\n",
    "\n",
    "print(\"The total number of vowels is\", c)"
   ]
  },
  {
   "cell_type": "code",
   "execution_count": null,
   "id": "e8cd241b-6224-4784-ba11-56147897eb3b",
   "metadata": {},
   "outputs": [],
   "source": []
  }
 ],
 "metadata": {
  "kernelspec": {
   "display_name": "Python 3 (ipykernel)",
   "language": "python",
   "name": "python3"
  },
  "language_info": {
   "codemirror_mode": {
    "name": "ipython",
    "version": 3
   },
   "file_extension": ".py",
   "mimetype": "text/x-python",
   "name": "python",
   "nbconvert_exporter": "python",
   "pygments_lexer": "ipython3",
   "version": "3.12.4"
  }
 },
 "nbformat": 4,
 "nbformat_minor": 5
}
