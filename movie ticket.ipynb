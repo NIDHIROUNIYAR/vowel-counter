{
 "cells": [
  {
   "cell_type": "code",
   "execution_count": 1,
   "id": "e3632cbb-fe97-4e47-8a9e-78d19bdbe928",
   "metadata": {},
   "outputs": [],
   "source": [
    "#Problem 8: Movie Ticket Price Calculator\n",
    "# Write a program that calculates the price of a movie ticket based on the user's age. Ticket prices are \n",
    "#as follows:\n",
    "# • Age under 18: Rs 108\n",
    "# • Age 18-60: Rs 450\n",
    "# • Age above 60: Rs 150\n",
    " #The program should ask the user for their age and print the correct ticket price"
   ]
  },
  {
   "cell_type": "code",
   "execution_count": 3,
   "id": "b26164dc-b712-4248-9e2b-38b04eab7e10",
   "metadata": {},
   "outputs": [
    {
     "name": "stdin",
     "output_type": "stream",
     "text": [
      "Enter the age: 18\n"
     ]
    },
    {
     "name": "stdout",
     "output_type": "stream",
     "text": [
      "The ticket price is 150\n"
     ]
    }
   ],
   "source": [
    "age=int(input(\"Enter the age:\"))\n",
    "if age<18:\n",
    "    print(\" The ticket price is 108\") \n",
    "elif 18<age<60:\n",
    "    print(\"The ticket price is 450\")\n",
    "else:\n",
    "    print(\"The ticket price is 150\")"
   ]
  },
  {
   "cell_type": "code",
   "execution_count": 5,
   "id": "ef5e0764-4da8-4c30-8077-b08f76354b8b",
   "metadata": {},
   "outputs": [
    {
     "name": "stdin",
     "output_type": "stream",
     "text": [
      "Enter your age:  45\n"
     ]
    },
    {
     "name": "stdout",
     "output_type": "stream",
     "text": [
      "The ticket price is: Rs 450\n"
     ]
    }
   ],
   "source": [
    "def calculate_ticket_price(age):\n",
    "    if age < 18:\n",
    "        return 180\n",
    "    elif 18 <= age <= 60:\n",
    "        return 450\n",
    "    else:\n",
    "        return 150\n",
    "\n",
    "def main():\n",
    "    try:\n",
    "        age = int(input(\"Enter your age: \"))\n",
    "        ticket_price = calculate_ticket_price(age)  # Calculate the ticket price\n",
    "        # Displaying the ticket price\n",
    "        print(f\"The ticket price is: Rs {ticket_price}\")\n",
    "    except ValueError:\n",
    "        print(\"Please enter a valid numeric age.\")\n",
    "\n",
    "# Entry point of the program\n",
    "if __name__ == \"__main__\":\n",
    "    main()"
   ]
  },
  {
   "cell_type": "code",
   "execution_count": null,
   "id": "19398fa4-4dbe-46cd-ae8e-e20c7468770f",
   "metadata": {},
   "outputs": [],
   "source": []
  }
 ],
 "metadata": {
  "kernelspec": {
   "display_name": "Python 3 (ipykernel)",
   "language": "python",
   "name": "python3"
  },
  "language_info": {
   "codemirror_mode": {
    "name": "ipython",
    "version": 3
   },
   "file_extension": ".py",
   "mimetype": "text/x-python",
   "name": "python",
   "nbconvert_exporter": "python",
   "pygments_lexer": "ipython3",
   "version": "3.12.4"
  }
 },
 "nbformat": 4,
 "nbformat_minor": 5
}
