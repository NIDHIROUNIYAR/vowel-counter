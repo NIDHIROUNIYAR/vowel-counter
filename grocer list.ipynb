{
 "cells": [
  {
   "cell_type": "code",
   "execution_count": 1,
   "id": "c6418a35-affa-4a74-9a3c-cea94d469bd3",
   "metadata": {},
   "outputs": [],
   "source": [
    " #Problem 5: Grocery List Tracker\n",
    " #You are managing a grocery store inventory. Write a program that asks the user to input the name \n",
    "#and price of 5 items and store them in a list. Then, display the total cost of all items."
   ]
  },
  {
   "cell_type": "code",
   "execution_count": 3,
   "id": "d309dc9e-3a8a-4a1e-b4c9-aeddbf47a34b",
   "metadata": {},
   "outputs": [
    {
     "name": "stdin",
     "output_type": "stream",
     "text": [
      "Enter the no. 1 item name: mango\n",
      "Enter its price: 10\n",
      "Enter the no. 2 item name: apple\n",
      "Enter its price: 15\n",
      "Enter the no. 3 item name: lichi\n",
      "Enter its price: 20\n",
      "Enter the no. 4 item name: banana\n",
      "Enter its price: 23\n",
      "Enter the no. 5 item name: pineapple\n",
      "Enter its price: 10\n"
     ]
    },
    {
     "name": "stdout",
     "output_type": "stream",
     "text": [
      "The total is  78.0\n",
      "['mango', 'apple', 'lichi', 'banana', 'pineapple']\n"
     ]
    }
   ],
   "source": [
    "total=0\n",
    "item=[]\n",
    "for i in range(5):\n",
    "    \n",
    "    name=input( f\"Enter the no. {i+1} item name:\")\n",
    "    item.append(name)\n",
    "    price= float(input(\"Enter its price:\"))\n",
    "    total= total+price\n",
    "print(\"The total is \",total)\n",
    "print (item)"
   ]
  },
  {
   "cell_type": "code",
   "execution_count": null,
   "id": "40d46655-74f3-49de-b42b-9275b810feee",
   "metadata": {},
   "outputs": [],
   "source": []
  }
 ],
 "metadata": {
  "kernelspec": {
   "display_name": "Python 3 (ipykernel)",
   "language": "python",
   "name": "python3"
  },
  "language_info": {
   "codemirror_mode": {
    "name": "ipython",
    "version": 3
   },
   "file_extension": ".py",
   "mimetype": "text/x-python",
   "name": "python",
   "nbconvert_exporter": "python",
   "pygments_lexer": "ipython3",
   "version": "3.12.4"
  }
 },
 "nbformat": 4,
 "nbformat_minor": 5
}
