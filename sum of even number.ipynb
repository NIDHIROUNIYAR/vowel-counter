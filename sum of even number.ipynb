{
 "cells": [
  {
   "cell_type": "code",
   "execution_count": 3,
   "id": "be41ee2e-5327-467e-b7c4-5afc70c3357f",
   "metadata": {},
   "outputs": [],
   "source": [
    "# Problem 10: Sum of Even Numbers\n",
    "# Write a Python program that finds and prints the sum of all even numbers between 1 and a number \n",
    "#3N (inclusive), where N is provided by the user"
   ]
  },
  {
   "cell_type": "code",
   "execution_count": 5,
   "id": "9f7997dd-7a79-40ba-afc4-940cb08382f5",
   "metadata": {},
   "outputs": [
    {
     "name": "stdin",
     "output_type": "stream",
     "text": [
      "Enter any number 4\n"
     ]
    },
    {
     "name": "stdout",
     "output_type": "stream",
     "text": [
      "The total number of even numbers are: 2\n",
      "The sum of even numbers are: 6\n"
     ]
    }
   ],
   "source": [
    "N=int(input(\"Enter any number\"))\n",
    "c=0\n",
    "s=0\n",
    "\n",
    "for i in range(N+1):\n",
    "    if i%2==0 and i!=0:\n",
    "        c=c+1\n",
    "        s=s+i\n",
    "print(\"The total number of even numbers are:\",c)\n",
    "print(\"The sum of even numbers are:\",s)\n"
   ]
  },
  {
   "cell_type": "code",
   "execution_count": null,
   "id": "b30b39a4-97a1-45de-a592-7a504dbcc359",
   "metadata": {},
   "outputs": [],
   "source": []
  }
 ],
 "metadata": {
  "kernelspec": {
   "display_name": "Python 3 (ipykernel)",
   "language": "python",
   "name": "python3"
  },
  "language_info": {
   "codemirror_mode": {
    "name": "ipython",
    "version": 3
   },
   "file_extension": ".py",
   "mimetype": "text/x-python",
   "name": "python",
   "nbconvert_exporter": "python",
   "pygments_lexer": "ipython3",
   "version": "3.12.4"
  }
 },
 "nbformat": 4,
 "nbformat_minor": 5
}
