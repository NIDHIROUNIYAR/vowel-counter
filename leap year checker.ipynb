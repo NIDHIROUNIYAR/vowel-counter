{
 "cells": [
  {
   "cell_type": "code",
   "execution_count": 1,
   "id": "7ce8f182-3ed6-4169-97e3-9fd0b9995f00",
   "metadata": {},
   "outputs": [],
   "source": [
    "# Problem 4: Leap Year Checker\n",
    " #Write a program that checks whether a given year is a leap year or not. A year is a leap year if it is:\n",
    "# • Divisible by 4, but not divisible by 100, or\n",
    " #• Divisible by 400."
   ]
  },
  {
   "cell_type": "code",
   "execution_count": 3,
   "id": "6223e660-8274-4e4a-b37e-6d8b77ca8823",
   "metadata": {},
   "outputs": [
    {
     "name": "stdin",
     "output_type": "stream",
     "text": [
      "Enter the year:  2020\n"
     ]
    },
    {
     "name": "stdout",
     "output_type": "stream",
     "text": [
      "2020 is a leap year.\n"
     ]
    }
   ],
   "source": [
    "def is_leap_year(year):\n",
    "    if (year % 4 == 0 and year % 100 != 0) or (year % 400 == 0):\n",
    "        return True\n",
    "    return False\n",
    "\n",
    "def main():\n",
    "    try:\n",
    "        year = int(input(\"Enter the year: \"))\n",
    "        if is_leap_year(year):\n",
    "            print(f\"{year} is a leap year.\")\n",
    "        else:\n",
    "            print(f\"{year} is not a leap year.\")\n",
    "    except ValueError:\n",
    "        print(\"Please enter a valid numeric year.\")\n",
    "\n",
    "# Entry point of the program\n",
    "if __name__ == \"__main__\":\n",
    "    main()"
   ]
  },
  {
   "cell_type": "code",
   "execution_count": null,
   "id": "ab01d296-6316-481e-b7cd-9e71cd29b063",
   "metadata": {},
   "outputs": [],
   "source": []
  }
 ],
 "metadata": {
  "kernelspec": {
   "display_name": "Python 3 (ipykernel)",
   "language": "python",
   "name": "python3"
  },
  "language_info": {
   "codemirror_mode": {
    "name": "ipython",
    "version": 3
   },
   "file_extension": ".py",
   "mimetype": "text/x-python",
   "name": "python",
   "nbconvert_exporter": "python",
   "pygments_lexer": "ipython3",
   "version": "3.12.4"
  }
 },
 "nbformat": 4,
 "nbformat_minor": 5
}
