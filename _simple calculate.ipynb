{
 "cells": [
  {
   "cell_type": "code",
   "execution_count": 3,
   "id": "2761c8ad-fed5-44ea-91f0-9dcdd27d8716",
   "metadata": {},
   "outputs": [],
   "source": [
    "#calculatin simple interest\n",
    " #Problem 1: Calculating Simple Interest\n",
    "# Write a Python program that takes input for principal (P), rate of interest (R), and time (T) in years, \n",
    "#and calculates the simple interest using the formula:\n",
    " #Simple Interest=P×R×T/ 100\n",
    "\n"
   ]
  },
  {
   "cell_type": "code",
   "execution_count": 5,
   "id": "b86b97bc-16c1-4e4b-8930-171050b13117",
   "metadata": {},
   "outputs": [
    {
     "name": "stdin",
     "output_type": "stream",
     "text": [
      "Enter the principal amount (P):  11\n",
      "Enter the rate of interest (R):  23\n",
      "Enter the time in years (T):  2\n"
     ]
    },
    {
     "name": "stdout",
     "output_type": "stream",
     "text": [
      "The simple interest is: 5.06\n"
     ]
    }
   ],
   "source": [
    "def main():\n",
    "    # Taking input from the user\n",
    "    principal = float(input(\"Enter the principal amount (P): \"))\n",
    "    rate = float(input(\"Enter the rate of interest (R): \"))\n",
    "    time = float(input(\"Enter the time in years (T): \"))\n",
    "    \n",
    "    # Calculate simple interest\n",
    "    si = principal * rate * time / 100\n",
    "    \n",
    "    # Print the simple interest, formatted to two decimal places\n",
    "    print(f\"The simple interest is: {si}\")\n",
    "\n",
    "if __name__ == \"__main__\":\n",
    "    main()"
   ]
  },
  {
   "cell_type": "code",
   "execution_count": null,
   "id": "98b1a6d7-d1af-4249-b5c6-f211e296c88a",
   "metadata": {},
   "outputs": [],
   "source": []
  }
 ],
 "metadata": {
  "kernelspec": {
   "display_name": "Python 3 (ipykernel)",
   "language": "python",
   "name": "python3"
  },
  "language_info": {
   "codemirror_mode": {
    "name": "ipython",
    "version": 3
   },
   "file_extension": ".py",
   "mimetype": "text/x-python",
   "name": "python",
   "nbconvert_exporter": "python",
   "pygments_lexer": "ipython3",
   "version": "3.12.4"
  }
 },
 "nbformat": 4,
 "nbformat_minor": 5
}
