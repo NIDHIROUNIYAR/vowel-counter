{
 "cells": [
  {
   "cell_type": "code",
   "execution_count": 1,
   "id": "9bbb938b-7c37-4720-a703-a9cb23a707d6",
   "metadata": {},
   "outputs": [],
   "source": [
    " #Problem 3: Bill Splitter\n",
    "# You and your friends went to a restaurant. The bill is Rs 6570. Write a Python program that asks for \n",
    "#the number of people and splits the bill equally among them. Ensure the output shows how much \n",
    "#each person needs to pay."
   ]
  },
  {
   "cell_type": "code",
   "execution_count": 3,
   "id": "9722e125-2c4d-41ed-b28b-3d106b771a5c",
   "metadata": {},
   "outputs": [
    {
     "name": "stdin",
     "output_type": "stream",
     "text": [
      "Enter the number of people:  10\n"
     ]
    },
    {
     "name": "stdout",
     "output_type": "stream",
     "text": [
      "Each person needs to pay: Rs657.00\n"
     ]
    }
   ],
   "source": [
    "def split_bill(total_bill, number_of_people):\n",
    "    if number_of_people == 0:\n",
    "        return 0\n",
    "    return total_bill / number_of_people\n",
    "\n",
    "def main():\n",
    "    total_bill = 6570\n",
    "    try:\n",
    "        number_of_people = float(input(\"Enter the number of people: \"))\n",
    "        \n",
    "        if number_of_people > 0:\n",
    "            amount_per_person = split_bill(total_bill, number_of_people)\n",
    "            print(f\"Each person needs to pay: Rs{amount_per_person:.2f}\")\n",
    "        else:\n",
    "            print(\"The number of people must be greater than zero.\")\n",
    "    except ValueError:\n",
    "        print(\"Please enter a valid numeric value for the number of people.\")\n",
    "\n",
    "if __name__ == \"__main__\":\n",
    "    main()"
   ]
  },
  {
   "cell_type": "code",
   "execution_count": 1,
   "id": "daf0b2b9-3aa9-4813-8824-4e349972983a",
   "metadata": {},
   "outputs": [
    {
     "name": "stdout",
     "output_type": "stream",
     "text": [
      "Your Total Bill is Rs 6570\n"
     ]
    },
    {
     "name": "stdin",
     "output_type": "stream",
     "text": [
      "Enter the number of people you want to split 5\n"
     ]
    },
    {
     "name": "stdout",
     "output_type": "stream",
     "text": [
      "Each person need to pay Rs 1314.0\n"
     ]
    }
   ],
   "source": [
    "print (\"Your Total Bill is Rs 6570\")\n",
    "n=int(input(\"Enter the number of people you want to split\"))\n",
    "b=(6570/n)\n",
    "print(\"Each person need to pay Rs\",b)"
   ]
  },
  {
   "cell_type": "code",
   "execution_count": null,
   "id": "b156348c-14dd-4989-8b26-98f7ca4e59ff",
   "metadata": {},
   "outputs": [],
   "source": []
  }
 ],
 "metadata": {
  "kernelspec": {
   "display_name": "Python 3 (ipykernel)",
   "language": "python",
   "name": "python3"
  },
  "language_info": {
   "codemirror_mode": {
    "name": "ipython",
    "version": 3
   },
   "file_extension": ".py",
   "mimetype": "text/x-python",
   "name": "python",
   "nbconvert_exporter": "python",
   "pygments_lexer": "ipython3",
   "version": "3.12.4"
  }
 },
 "nbformat": 4,
 "nbformat_minor": 5
}
